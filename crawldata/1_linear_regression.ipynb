{
 "cells": [
  {
   "cell_type": "code",
   "execution_count": 1,
   "metadata": {},
   "outputs": [],
   "source": [
    "import pandas as pd\n",
    "import numpy as np\n",
    "from sklearn import linear_model\n",
    "import matplotlib.pyplot as plt"
   ]
  },
  {
   "cell_type": "code",
   "execution_count": 2,
   "metadata": {},
   "outputs": [
    {
     "data": {
      "text/html": [
       "<div>\n",
       "<style scoped>\n",
       "    .dataframe tbody tr th:only-of-type {\n",
       "        vertical-align: middle;\n",
       "    }\n",
       "\n",
       "    .dataframe tbody tr th {\n",
       "        vertical-align: top;\n",
       "    }\n",
       "\n",
       "    .dataframe thead th {\n",
       "        text-align: right;\n",
       "    }\n",
       "</style>\n",
       "<table border=\"1\" class=\"dataframe\">\n",
       "  <thead>\n",
       "    <tr style=\"text-align: right;\">\n",
       "      <th></th>\n",
       "      <th>bed</th>\n",
       "      <th>bath</th>\n",
       "      <th>area</th>\n",
       "      <th>buget</th>\n",
       "      <th>price</th>\n",
       "      <th>local_street</th>\n",
       "      <th>local_ward</th>\n",
       "      <th>local_district</th>\n",
       "      <th>local_city</th>\n",
       "    </tr>\n",
       "  </thead>\n",
       "  <tbody>\n",
       "    <tr>\n",
       "      <th>0</th>\n",
       "      <td>2</td>\n",
       "      <td>3</td>\n",
       "      <td>15.00</td>\n",
       "      <td>2.30</td>\n",
       "      <td>153.33</td>\n",
       "      <td>Đ.Đinh Tiên Hoàng</td>\n",
       "      <td>P.1</td>\n",
       "      <td>Q.Bình Thạnh</td>\n",
       "      <td>Hồ Chí Minh</td>\n",
       "    </tr>\n",
       "    <tr>\n",
       "      <th>1</th>\n",
       "      <td>5</td>\n",
       "      <td>5</td>\n",
       "      <td>65.20</td>\n",
       "      <td>7.60</td>\n",
       "      <td>116.56</td>\n",
       "      <td>Đ.Đinh Tiên Hoàng</td>\n",
       "      <td>P.1</td>\n",
       "      <td>Q.Bình Thạnh</td>\n",
       "      <td>Hồ Chí Minh</td>\n",
       "    </tr>\n",
       "    <tr>\n",
       "      <th>2</th>\n",
       "      <td>2</td>\n",
       "      <td>2</td>\n",
       "      <td>12.70</td>\n",
       "      <td>1.60</td>\n",
       "      <td>125.98</td>\n",
       "      <td>Đ.Đinh Tiên Hoàng</td>\n",
       "      <td>P.1</td>\n",
       "      <td>Q.Bình Thạnh</td>\n",
       "      <td>Hồ Chí Minh</td>\n",
       "    </tr>\n",
       "    <tr>\n",
       "      <th>3</th>\n",
       "      <td>2</td>\n",
       "      <td>2</td>\n",
       "      <td>53.50</td>\n",
       "      <td>6.50</td>\n",
       "      <td>121.49</td>\n",
       "      <td>Đ.Diên Hồng</td>\n",
       "      <td>P.1</td>\n",
       "      <td>Q.Bình Thạnh</td>\n",
       "      <td>Hồ Chí Minh</td>\n",
       "    </tr>\n",
       "    <tr>\n",
       "      <th>4</th>\n",
       "      <td>2</td>\n",
       "      <td>2</td>\n",
       "      <td>19.50</td>\n",
       "      <td>3.80</td>\n",
       "      <td>194.87</td>\n",
       "      <td>lê văn duyệt</td>\n",
       "      <td>P.1</td>\n",
       "      <td>Q.Bình Thạnh</td>\n",
       "      <td>Hồ Chí Minh</td>\n",
       "    </tr>\n",
       "    <tr>\n",
       "      <th>5</th>\n",
       "      <td>2</td>\n",
       "      <td>2</td>\n",
       "      <td>25.70</td>\n",
       "      <td>3.05</td>\n",
       "      <td>118.67</td>\n",
       "      <td>Đ.Đinh Tiên Hoàng</td>\n",
       "      <td>P.1</td>\n",
       "      <td>Q.Bình Thạnh</td>\n",
       "      <td>Hồ Chí Minh</td>\n",
       "    </tr>\n",
       "    <tr>\n",
       "      <th>6</th>\n",
       "      <td>3</td>\n",
       "      <td>3</td>\n",
       "      <td>31.40</td>\n",
       "      <td>4.30</td>\n",
       "      <td>136.94</td>\n",
       "      <td>Đ.Đinh Tiên Hoàng</td>\n",
       "      <td>P.1</td>\n",
       "      <td>Q.Bình Thạnh</td>\n",
       "      <td>Hồ Chí Minh</td>\n",
       "    </tr>\n",
       "    <tr>\n",
       "      <th>7</th>\n",
       "      <td>1</td>\n",
       "      <td>1</td>\n",
       "      <td>39.50</td>\n",
       "      <td>5.70</td>\n",
       "      <td>144.30</td>\n",
       "      <td>Đ.Đinh Tiên Hoàng</td>\n",
       "      <td>P.1</td>\n",
       "      <td>Q.Bình Thạnh</td>\n",
       "      <td>Hồ Chí Minh</td>\n",
       "    </tr>\n",
       "    <tr>\n",
       "      <th>8</th>\n",
       "      <td>5</td>\n",
       "      <td>4</td>\n",
       "      <td>85.10</td>\n",
       "      <td>24.00</td>\n",
       "      <td>282.02</td>\n",
       "      <td>Đ.Trịnh Hoài Đức</td>\n",
       "      <td>P.1</td>\n",
       "      <td>Q.Bình Thạnh</td>\n",
       "      <td>Hồ Chí Minh</td>\n",
       "    </tr>\n",
       "    <tr>\n",
       "      <th>9</th>\n",
       "      <td>4</td>\n",
       "      <td>4</td>\n",
       "      <td>62.60</td>\n",
       "      <td>17.50</td>\n",
       "      <td>279.55</td>\n",
       "      <td>lê văn duyệt</td>\n",
       "      <td>P.1</td>\n",
       "      <td>Q.Bình Thạnh</td>\n",
       "      <td>Hồ Chí Minh</td>\n",
       "    </tr>\n",
       "    <tr>\n",
       "      <th>10</th>\n",
       "      <td>2</td>\n",
       "      <td>3</td>\n",
       "      <td>18.10</td>\n",
       "      <td>3.20</td>\n",
       "      <td>176.79</td>\n",
       "      <td>lê văn duyệt</td>\n",
       "      <td>P.1</td>\n",
       "      <td>Q.Bình Thạnh</td>\n",
       "      <td>Hồ Chí Minh</td>\n",
       "    </tr>\n",
       "    <tr>\n",
       "      <th>11</th>\n",
       "      <td>3</td>\n",
       "      <td>2</td>\n",
       "      <td>45.90</td>\n",
       "      <td>7.20</td>\n",
       "      <td>156.86</td>\n",
       "      <td>lê văn duyệt</td>\n",
       "      <td>P.1</td>\n",
       "      <td>Q.Bình Thạnh</td>\n",
       "      <td>Hồ Chí Minh</td>\n",
       "    </tr>\n",
       "    <tr>\n",
       "      <th>12</th>\n",
       "      <td>3</td>\n",
       "      <td>4</td>\n",
       "      <td>32.30</td>\n",
       "      <td>7.00</td>\n",
       "      <td>216.71</td>\n",
       "      <td>Đ.Đinh Tiên Hoàng</td>\n",
       "      <td>P.1</td>\n",
       "      <td>Q.Bình Thạnh</td>\n",
       "      <td>Hồ Chí Minh</td>\n",
       "    </tr>\n",
       "    <tr>\n",
       "      <th>13</th>\n",
       "      <td>3</td>\n",
       "      <td>2</td>\n",
       "      <td>60.50</td>\n",
       "      <td>8.50</td>\n",
       "      <td>140.49</td>\n",
       "      <td>Đ.Yên Đỗ</td>\n",
       "      <td>P.1</td>\n",
       "      <td>Q.Bình Thạnh</td>\n",
       "      <td>Hồ Chí Minh</td>\n",
       "    </tr>\n",
       "    <tr>\n",
       "      <th>14</th>\n",
       "      <td>1</td>\n",
       "      <td>1</td>\n",
       "      <td>38.10</td>\n",
       "      <td>5.80</td>\n",
       "      <td>152.23</td>\n",
       "      <td>lê văn duyệt</td>\n",
       "      <td>P.1</td>\n",
       "      <td>Q.Bình Thạnh</td>\n",
       "      <td>Hồ Chí Minh</td>\n",
       "    </tr>\n",
       "    <tr>\n",
       "      <th>15</th>\n",
       "      <td>3</td>\n",
       "      <td>2</td>\n",
       "      <td>51.10</td>\n",
       "      <td>7.00</td>\n",
       "      <td>136.98</td>\n",
       "      <td>lê văn duyệt</td>\n",
       "      <td>P.1</td>\n",
       "      <td>Q.Bình Thạnh</td>\n",
       "      <td>Hồ Chí Minh</td>\n",
       "    </tr>\n",
       "    <tr>\n",
       "      <th>16</th>\n",
       "      <td>3</td>\n",
       "      <td>2</td>\n",
       "      <td>41.05</td>\n",
       "      <td>7.20</td>\n",
       "      <td>175.39</td>\n",
       "      <td>Đ.Đinh Tiên Hoàng</td>\n",
       "      <td>P.1</td>\n",
       "      <td>Q.Bình Thạnh</td>\n",
       "      <td>Hồ Chí Minh</td>\n",
       "    </tr>\n",
       "    <tr>\n",
       "      <th>17</th>\n",
       "      <td>2</td>\n",
       "      <td>2</td>\n",
       "      <td>20.70</td>\n",
       "      <td>5.13</td>\n",
       "      <td>247.82</td>\n",
       "      <td>lê văn duyệt</td>\n",
       "      <td>P.1</td>\n",
       "      <td>Q.Bình Thạnh</td>\n",
       "      <td>Hồ Chí Minh</td>\n",
       "    </tr>\n",
       "    <tr>\n",
       "      <th>18</th>\n",
       "      <td>2</td>\n",
       "      <td>2</td>\n",
       "      <td>13.00</td>\n",
       "      <td>1.93</td>\n",
       "      <td>148.46</td>\n",
       "      <td>Đ.Đinh Tiên Hoàng</td>\n",
       "      <td>P.1</td>\n",
       "      <td>Q.Bình Thạnh</td>\n",
       "      <td>Hồ Chí Minh</td>\n",
       "    </tr>\n",
       "    <tr>\n",
       "      <th>19</th>\n",
       "      <td>3</td>\n",
       "      <td>3</td>\n",
       "      <td>142.00</td>\n",
       "      <td>17.00</td>\n",
       "      <td>119.71</td>\n",
       "      <td>Đ.Phó Đức Chính</td>\n",
       "      <td>P.1</td>\n",
       "      <td>Q.Bình Thạnh</td>\n",
       "      <td>Hồ Chí Minh</td>\n",
       "    </tr>\n",
       "    <tr>\n",
       "      <th>20</th>\n",
       "      <td>6</td>\n",
       "      <td>5</td>\n",
       "      <td>42.90</td>\n",
       "      <td>8.00</td>\n",
       "      <td>186.48</td>\n",
       "      <td>Đ.Bùi Hữu Nghĩa</td>\n",
       "      <td>P.1</td>\n",
       "      <td>Q.Bình Thạnh</td>\n",
       "      <td>Hồ Chí Minh</td>\n",
       "    </tr>\n",
       "    <tr>\n",
       "      <th>21</th>\n",
       "      <td>2</td>\n",
       "      <td>2</td>\n",
       "      <td>25.70</td>\n",
       "      <td>3.05</td>\n",
       "      <td>118.67</td>\n",
       "      <td>Đ.Đinh Tiên Hoàng</td>\n",
       "      <td>P.1</td>\n",
       "      <td>Q.Bình Thạnh</td>\n",
       "      <td>Hồ Chí Minh</td>\n",
       "    </tr>\n",
       "    <tr>\n",
       "      <th>22</th>\n",
       "      <td>1</td>\n",
       "      <td>2</td>\n",
       "      <td>19.00</td>\n",
       "      <td>2.70</td>\n",
       "      <td>142.10</td>\n",
       "      <td>lê văn duyệt</td>\n",
       "      <td>P.1</td>\n",
       "      <td>Q.Bình Thạnh</td>\n",
       "      <td>Hồ Chí Minh</td>\n",
       "    </tr>\n",
       "  </tbody>\n",
       "</table>\n",
       "</div>"
      ],
      "text/plain": [
       "    bed  bath    area  buget   price       local_street local_ward  \\\n",
       "0     2     3   15.00   2.30  153.33  Đ.Đinh Tiên Hoàng        P.1   \n",
       "1     5     5   65.20   7.60  116.56  Đ.Đinh Tiên Hoàng        P.1   \n",
       "2     2     2   12.70   1.60  125.98  Đ.Đinh Tiên Hoàng        P.1   \n",
       "3     2     2   53.50   6.50  121.49        Đ.Diên Hồng        P.1   \n",
       "4     2     2   19.50   3.80  194.87       lê văn duyệt        P.1   \n",
       "5     2     2   25.70   3.05  118.67  Đ.Đinh Tiên Hoàng        P.1   \n",
       "6     3     3   31.40   4.30  136.94  Đ.Đinh Tiên Hoàng        P.1   \n",
       "7     1     1   39.50   5.70  144.30  Đ.Đinh Tiên Hoàng        P.1   \n",
       "8     5     4   85.10  24.00  282.02   Đ.Trịnh Hoài Đức        P.1   \n",
       "9     4     4   62.60  17.50  279.55       lê văn duyệt        P.1   \n",
       "10    2     3   18.10   3.20  176.79       lê văn duyệt        P.1   \n",
       "11    3     2   45.90   7.20  156.86       lê văn duyệt        P.1   \n",
       "12    3     4   32.30   7.00  216.71  Đ.Đinh Tiên Hoàng        P.1   \n",
       "13    3     2   60.50   8.50  140.49           Đ.Yên Đỗ        P.1   \n",
       "14    1     1   38.10   5.80  152.23       lê văn duyệt        P.1   \n",
       "15    3     2   51.10   7.00  136.98       lê văn duyệt        P.1   \n",
       "16    3     2   41.05   7.20  175.39  Đ.Đinh Tiên Hoàng        P.1   \n",
       "17    2     2   20.70   5.13  247.82       lê văn duyệt        P.1   \n",
       "18    2     2   13.00   1.93  148.46  Đ.Đinh Tiên Hoàng        P.1   \n",
       "19    3     3  142.00  17.00  119.71    Đ.Phó Đức Chính        P.1   \n",
       "20    6     5   42.90   8.00  186.48    Đ.Bùi Hữu Nghĩa        P.1   \n",
       "21    2     2   25.70   3.05  118.67  Đ.Đinh Tiên Hoàng        P.1   \n",
       "22    1     2   19.00   2.70  142.10       lê văn duyệt        P.1   \n",
       "\n",
       "   local_district   local_city  \n",
       "0    Q.Bình Thạnh  Hồ Chí Minh  \n",
       "1    Q.Bình Thạnh  Hồ Chí Minh  \n",
       "2    Q.Bình Thạnh  Hồ Chí Minh  \n",
       "3    Q.Bình Thạnh  Hồ Chí Minh  \n",
       "4    Q.Bình Thạnh  Hồ Chí Minh  \n",
       "5    Q.Bình Thạnh  Hồ Chí Minh  \n",
       "6    Q.Bình Thạnh  Hồ Chí Minh  \n",
       "7    Q.Bình Thạnh  Hồ Chí Minh  \n",
       "8    Q.Bình Thạnh  Hồ Chí Minh  \n",
       "9    Q.Bình Thạnh  Hồ Chí Minh  \n",
       "10   Q.Bình Thạnh  Hồ Chí Minh  \n",
       "11   Q.Bình Thạnh  Hồ Chí Minh  \n",
       "12   Q.Bình Thạnh  Hồ Chí Minh  \n",
       "13   Q.Bình Thạnh  Hồ Chí Minh  \n",
       "14   Q.Bình Thạnh  Hồ Chí Minh  \n",
       "15   Q.Bình Thạnh  Hồ Chí Minh  \n",
       "16   Q.Bình Thạnh  Hồ Chí Minh  \n",
       "17   Q.Bình Thạnh  Hồ Chí Minh  \n",
       "18   Q.Bình Thạnh  Hồ Chí Minh  \n",
       "19   Q.Bình Thạnh  Hồ Chí Minh  \n",
       "20   Q.Bình Thạnh  Hồ Chí Minh  \n",
       "21   Q.Bình Thạnh  Hồ Chí Minh  \n",
       "22   Q.Bình Thạnh  Hồ Chí Minh  "
      ]
     },
     "execution_count": 2,
     "metadata": {},
     "output_type": "execute_result"
    }
   ],
   "source": [
    "df = pd.read_csv('p1binhthanh.csv')\n",
    "df"
   ]
  },
  {
   "cell_type": "code",
   "execution_count": 3,
   "metadata": {},
   "outputs": [
    {
     "data": {
      "text/plain": [
       "<matplotlib.collections.PathCollection at 0x7f8629d37cd0>"
      ]
     },
     "execution_count": 3,
     "metadata": {},
     "output_type": "execute_result"
    },
    {
     "data": {
      "image/png": "[encoded data removed]",
      "text/plain": [
       "<Figure size 432x288 with 1 Axes>"
      ]
     },
     "metadata": {
      "needs_background": "light"
     },
     "output_type": "display_data"
    }
   ],
   "source": [
    "%matplotlib inline\n",
    "plt.xlabel('area')\n",
    "plt.ylabel('price')\n",
    "plt.scatter(df.area,df.price,color='red',marker='+')"
   ]
  },
  {
   "cell_type": "code",
   "execution_count": 5,
   "metadata": {},
   "outputs": [
    {
     "data": {
      "text/html": [
       "<div>\n",
       "<style scoped>\n",
       "    .dataframe tbody tr th:only-of-type {\n",
       "        vertical-align: middle;\n",
       "    }\n",
       "\n",
       "    .dataframe tbody tr th {\n",
       "        vertical-align: top;\n",
       "    }\n",
       "\n",
       "    .dataframe thead th {\n",
       "        text-align: right;\n",
       "    }\n",
       "</style>\n",
       "<table border=\"1\" class=\"dataframe\">\n",
       "  <thead>\n",
       "    <tr style=\"text-align: right;\">\n",
       "      <th></th>\n",
       "      <th>area</th>\n",
       "    </tr>\n",
       "  </thead>\n",
       "  <tbody>\n",
       "    <tr>\n",
       "      <th>0</th>\n",
       "      <td>2600</td>\n",
       "    </tr>\n",
       "    <tr>\n",
       "      <th>1</th>\n",
       "      <td>3000</td>\n",
       "    </tr>\n",
       "    <tr>\n",
       "      <th>2</th>\n",
       "      <td>3200</td>\n",
       "    </tr>\n",
       "    <tr>\n",
       "      <th>3</th>\n",
       "      <td>3600</td>\n",
       "    </tr>\n",
       "    <tr>\n",
       "      <th>4</th>\n",
       "      <td>4000</td>\n",
       "    </tr>\n",
       "  </tbody>\n",
       "</table>\n",
       "</div>"
      ],
      "text/plain": [
       "   area\n",
       "0  2600\n",
       "1  3000\n",
       "2  3200\n",
       "3  3600\n",
       "4  4000"
      ]
     },
     "execution_count": 5,
     "metadata": {},
     "output_type": "execute_result"
    }
   ],
   "source": [
    "new_df = df.drop('price',axis='columns')\n",
    "new_df"
   ]
  },
  {
   "cell_type": "code",
   "execution_count": 8,
   "metadata": {},
   "outputs": [
    {
     "data": {
      "text/plain": [
       "0    550000\n",
       "1    565000\n",
       "2    610000\n",
       "3    680000\n",
       "4    725000\n",
       "Name: price, dtype: int64"
      ]
     },
     "execution_count": 8,
     "metadata": {},
     "output_type": "execute_result"
    }
   ],
   "source": [
    "price = df.price\n",
    "price"
   ]
  },
  {
   "cell_type": "code",
   "execution_count": 9,
   "metadata": {},
   "outputs": [
    {
     "data": {
      "text/plain": [
       "LinearRegression(copy_X=True, fit_intercept=True, n_jobs=None,\n",
       "         normalize=False)"
      ]
     },
     "execution_count": 9,
     "metadata": {},
     "output_type": "execute_result"
    }
   ],
   "source": [
    "# Create linear regression object\n",
    "reg = linear_model.LinearRegression()\n",
    "reg.fit(new_df,price)"
   ]
  },
  {
   "cell_type": "markdown",
   "metadata": {},
   "source": [
    "**(1) Predict price of a home with area = 3300 sqr ft**"
   ]
  },
  {
   "cell_type": "code",
   "execution_count": 10,
   "metadata": {
    "scrolled": true
   },
   "outputs": [
    {
     "data": {
      "text/plain": [
       "array([628715.75342466])"
      ]
     },
     "execution_count": 10,
     "metadata": {},
     "output_type": "execute_result"
    }
   ],
   "source": [
    "reg.predict([[3300]])"
   ]
  },
  {
   "cell_type": "code",
   "execution_count": 11,
   "metadata": {},
   "outputs": [
    {
     "data": {
      "text/plain": [
       "array([135.78767123])"
      ]
     },
     "execution_count": 11,
     "metadata": {},
     "output_type": "execute_result"
    }
   ],
   "source": [
    "reg.coef_"
   ]
  },
  {
   "cell_type": "code",
   "execution_count": 12,
   "metadata": {
    "scrolled": true
   },
   "outputs": [
    {
     "data": {
      "text/plain": [
       "180616.43835616432"
      ]
     },
     "execution_count": 12,
     "metadata": {},
     "output_type": "execute_result"
    }
   ],
   "source": [
    "reg.intercept_"
   ]
  },
  {
   "cell_type": "markdown",
   "metadata": {},
   "source": [
    "**Y = m * X + b (m is coefficient and b is intercept)**"
   ]
  },
  {
   "cell_type": "code",
   "execution_count": 13,
   "metadata": {
    "scrolled": true
   },
   "outputs": [
    {
     "data": {
      "text/plain": [
       "628715.7534151643"
      ]
     },
     "execution_count": 13,
     "metadata": {},
     "output_type": "execute_result"
    }
   ],
   "source": [
    "3300*135.78767123 + 180616.43835616432"
   ]
  },
  {
   "cell_type": "markdown",
   "metadata": {},
   "source": [
    "**(1) Predict price of a home with area = 5000 sqr ft**"
   ]
  },
  {
   "cell_type": "code",
   "execution_count": 14,
   "metadata": {},
   "outputs": [
    {
     "data": {
      "text/plain": [
       "array([859554.79452055])"
      ]
     },
     "execution_count": 14,
     "metadata": {},
     "output_type": "execute_result"
    }
   ],
   "source": [
    "reg.predict([[5000]])"
   ]
  },
  {
   "cell_type": "markdown",
   "metadata": {},
   "source": [
    "<h3 style=\"color:purple\">Generate CSV file with list of home price predictions</h3>"
   ]
  },
  {
   "cell_type": "code",
   "execution_count": 15,
   "metadata": {},
   "outputs": [
    {
     "data": {
      "text/html": [
       "<div>\n",
       "<style scoped>\n",
       "    .dataframe tbody tr th:only-of-type {\n",
       "        vertical-align: middle;\n",
       "    }\n",
       "\n",
       "    .dataframe tbody tr th {\n",
       "        vertical-align: top;\n",
       "    }\n",
       "\n",
       "    .dataframe thead th {\n",
       "        text-align: right;\n",
       "    }\n",
       "</style>\n",
       "<table border=\"1\" class=\"dataframe\">\n",
       "  <thead>\n",
       "    <tr style=\"text-align: right;\">\n",
       "      <th></th>\n",
       "      <th>area</th>\n",
       "    </tr>\n",
       "  </thead>\n",
       "  <tbody>\n",
       "    <tr>\n",
       "      <th>0</th>\n",
       "      <td>1000</td>\n",
       "    </tr>\n",
       "    <tr>\n",
       "      <th>1</th>\n",
       "      <td>1500</td>\n",
       "    </tr>\n",
       "    <tr>\n",
       "      <th>2</th>\n",
       "      <td>2300</td>\n",
       "    </tr>\n",
       "  </tbody>\n",
       "</table>\n",
       "</div>"
      ],
      "text/plain": [
       "   area\n",
       "0  1000\n",
       "1  1500\n",
       "2  2300"
      ]
     },
     "execution_count": 15,
     "metadata": {},
     "output_type": "execute_result"
    }
   ],
   "source": [
    "area_df = pd.read_csv(\"areas.csv\")\n",
    "area_df.head(3)"
   ]
  },
  {
   "cell_type": "code",
   "execution_count": 16,
   "metadata": {},
   "outputs": [
    {
     "data": {
      "text/plain": [
       "array([ 316404.10958904,  384297.94520548,  492928.08219178,\n",
       "        661304.79452055,  740061.64383562,  799808.21917808,\n",
       "        926090.75342466,  650441.78082192,  825607.87671233,\n",
       "        492928.08219178, 1402705.47945205, 1348390.4109589 ,\n",
       "       1144708.90410959])"
      ]
     },
     "execution_count": 16,
     "metadata": {},
     "output_type": "execute_result"
    }
   ],
   "source": [
    "p = reg.predict(area_df)\n",
    "p"
   ]
  },
  {
   "cell_type": "code",
   "execution_count": 17,
   "metadata": {},
   "outputs": [
    {
     "data": {
      "text/html": [
       "<div>\n",
       "<style scoped>\n",
       "    .dataframe tbody tr th:only-of-type {\n",
       "        vertical-align: middle;\n",
       "    }\n",
       "\n",
       "    .dataframe tbody tr th {\n",
       "        vertical-align: top;\n",
       "    }\n",
       "\n",
       "    .dataframe thead th {\n",
       "        text-align: right;\n",
       "    }\n",
       "</style>\n",
       "<table border=\"1\" class=\"dataframe\">\n",
       "  <thead>\n",
       "    <tr style=\"text-align: right;\">\n",
       "      <th></th>\n",
       "      <th>area</th>\n",
       "      <th>prices</th>\n",
       "    </tr>\n",
       "  </thead>\n",
       "  <tbody>\n",
       "    <tr>\n",
       "      <th>0</th>\n",
       "      <td>1000</td>\n",
       "      <td>3.164041e+05</td>\n",
       "    </tr>\n",
       "    <tr>\n",
       "      <th>1</th>\n",
       "      <td>1500</td>\n",
       "      <td>3.842979e+05</td>\n",
       "    </tr>\n",
       "    <tr>\n",
       "      <th>2</th>\n",
       "      <td>2300</td>\n",
       "      <td>4.929281e+05</td>\n",
       "    </tr>\n",
       "    <tr>\n",
       "      <th>3</th>\n",
       "      <td>3540</td>\n",
       "      <td>6.613048e+05</td>\n",
       "    </tr>\n",
       "    <tr>\n",
       "      <th>4</th>\n",
       "      <td>4120</td>\n",
       "      <td>7.400616e+05</td>\n",
       "    </tr>\n",
       "    <tr>\n",
       "      <th>5</th>\n",
       "      <td>4560</td>\n",
       "      <td>7.998082e+05</td>\n",
       "    </tr>\n",
       "    <tr>\n",
       "      <th>6</th>\n",
       "      <td>5490</td>\n",
       "      <td>9.260908e+05</td>\n",
       "    </tr>\n",
       "    <tr>\n",
       "      <th>7</th>\n",
       "      <td>3460</td>\n",
       "      <td>6.504418e+05</td>\n",
       "    </tr>\n",
       "    <tr>\n",
       "      <th>8</th>\n",
       "      <td>4750</td>\n",
       "      <td>8.256079e+05</td>\n",
       "    </tr>\n",
       "    <tr>\n",
       "      <th>9</th>\n",
       "      <td>2300</td>\n",
       "      <td>4.929281e+05</td>\n",
       "    </tr>\n",
       "    <tr>\n",
       "      <th>10</th>\n",
       "      <td>9000</td>\n",
       "      <td>1.402705e+06</td>\n",
       "    </tr>\n",
       "    <tr>\n",
       "      <th>11</th>\n",
       "      <td>8600</td>\n",
       "      <td>1.348390e+06</td>\n",
       "    </tr>\n",
       "    <tr>\n",
       "      <th>12</th>\n",
       "      <td>7100</td>\n",
       "      <td>1.144709e+06</td>\n",
       "    </tr>\n",
       "  </tbody>\n",
       "</table>\n",
       "</div>"
      ],
      "text/plain": [
       "    area        prices\n",
       "0   1000  3.164041e+05\n",
       "1   1500  3.842979e+05\n",
       "2   2300  4.929281e+05\n",
       "3   3540  6.613048e+05\n",
       "4   4120  7.400616e+05\n",
       "5   4560  7.998082e+05\n",
       "6   5490  9.260908e+05\n",
       "7   3460  6.504418e+05\n",
       "8   4750  8.256079e+05\n",
       "9   2300  4.929281e+05\n",
       "10  9000  1.402705e+06\n",
       "11  8600  1.348390e+06\n",
       "12  7100  1.144709e+06"
      ]
     },
     "execution_count": 17,
     "metadata": {},
     "output_type": "execute_result"
    }
   ],
   "source": [
    "area_df['prices']=p\n",
    "area_df"
   ]
  },
  {
   "cell_type": "code",
   "execution_count": 18,
   "metadata": {},
   "outputs": [],
   "source": [
    "area_df.to_csv(\"prediction.csv\")"
   ]
  }
 ],
 "metadata": {
  "kernelspec": {
   "display_name": "Python 3",
   "language": "python",
   "name": "python3"
  },
  "language_info": {
   "codemirror_mode": {
    "name": "ipython",
    "version": 3
   },
   "file_extension": ".py",
   "mimetype": "text/x-python",
   "name": "python",
   "nbconvert_exporter": "python",
   "pygments_lexer": "ipython3",
   "version": "3.8.8"
  },
  "vscode": {
   "interpreter": {
    "hash": "7812ea015bdcee6f23a998adcdd2ef97c151c0c241b7b7070987d9313e41299d"
   }
  }
 },
 "nbformat": 4,
 "nbformat_minor": 2
}
